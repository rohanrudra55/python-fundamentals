{
 "cells": [
  {
   "cell_type": "markdown",
   "id": "5fe35527-c28e-490c-b703-80de8707f3fb",
   "metadata": {
    "tags": []
   },
   "source": [
    "### If it doesnot show the slider run this diagonistics\n",
    "\n",
    "* Check all the components are installed\n",
    "* Install the missing components\n",
    "* Clean the old build \n",
    "* Rebuild, Node.js is required\n",
    "* Enable extensions"
   ]
  },
  {
   "cell_type": "code",
   "execution_count": null,
   "id": "6a1f98fd",
   "metadata": {},
   "outputs": [],
   "source": [
    "!jupyter --version"
   ]
  },
  {
   "cell_type": "code",
   "execution_count": null,
   "id": "beb831eb",
   "metadata": {},
   "outputs": [],
   "source": [
    "!pip3 install jupyterlab"
   ]
  },
  {
   "cell_type": "code",
   "execution_count": null,
   "id": "ac100e0b",
   "metadata": {},
   "outputs": [],
   "source": [
    "!pip3 install qtconsole"
   ]
  },
  {
   "cell_type": "code",
   "execution_count": null,
   "id": "08c392cf",
   "metadata": {
    "tags": []
   },
   "outputs": [],
   "source": [
    "!jupyter lab clean"
   ]
  },
  {
   "cell_type": "code",
   "execution_count": null,
   "id": "93a10c46",
   "metadata": {
    "tags": []
   },
   "outputs": [],
   "source": [
    "!jupyter lab build"
   ]
  },
  {
   "cell_type": "code",
   "execution_count": null,
   "id": "8e82c705",
   "metadata": {},
   "outputs": [],
   "source": [
    "!jupyter nbextension enable --py widgetsnbextension --sys-prefix"
   ]
  },
  {
   "cell_type": "markdown",
   "id": "732adcdc-0a6d-4d4e-8eae-60a01aaa35b7",
   "metadata": {},
   "source": [
    "#### Widgets are eventful python objects that have a representation in the browser, often as a control like a slider, textbox, etc.\n",
    "\n",
    "You can use widgets to build interactive GUIs for your notebooks.\n",
    "\n",
    "You can also use widgets to synchronize stateful and stateless information between Python and JavaScript"
   ]
  },
  {
   "cell_type": "code",
   "execution_count": null,
   "id": "14b74d2a",
   "metadata": {
    "tags": []
   },
   "outputs": [],
   "source": [
    "import ipywidgets as widgets"
   ]
  },
  {
   "cell_type": "code",
   "execution_count": 11,
   "id": "5ba80578",
   "metadata": {
    "tags": []
   },
   "outputs": [
    {
     "data": {
      "application/vnd.jupyter.widget-view+json": {
       "model_id": "07f5837ae6e54203b387913927f48c3e",
       "version_major": 2,
       "version_minor": 0
      },
      "text/plain": [
       "IntText(value=0)"
      ]
     },
     "metadata": {},
     "output_type": "display_data"
    },
    {
     "data": {
      "application/vnd.jupyter.widget-view+json": {
       "model_id": "172dd6fb46fb442baeff1ed8052eb6f4",
       "version_major": 2,
       "version_minor": 0
      },
      "text/plain": [
       "IntSlider(value=10, description='Test:', step=2)"
      ]
     },
     "metadata": {},
     "output_type": "display_data"
    }
   ],
   "source": [
    "a = widgets.IntText()\n",
    "b = widgets.IntSlider(\n",
    "    value=0,\n",
    "    min=0,\n",
    "    max=100,\n",
    "    step=2,\n",
    "    description='Test:',\n",
    "    disabled=False,\n",
    "    continuous_update=True,\n",
    "    orientation='horizontal',\n",
    "    readout=True,\n",
    "    readout_format='d'\n",
    ")\n",
    "display(a,b)\n",
    "\n",
    "mylink = widgets.jslink((a, 'value'), (b, 'value'))"
   ]
  },
  {
   "cell_type": "code",
   "execution_count": 14,
   "id": "72655334",
   "metadata": {
    "tags": []
   },
   "outputs": [
    {
     "data": {
      "application/vnd.jupyter.widget-view+json": {
       "model_id": "9ccdaf28c28f4824bcf030fdf6c0bbcf",
       "version_major": 2,
       "version_minor": 0
      },
      "text/plain": [
       "IntProgress(value=7, bar_style='info', description='Loading:', max=10, style=ProgressStyle(bar_color='maroon')…"
      ]
     },
     "execution_count": 14,
     "metadata": {},
     "output_type": "execute_result"
    }
   ],
   "source": [
    " # bar_style : 'success', 'info', 'warning', 'danger' or ''\n",
    "widgets.IntProgress(\n",
    "    value=7,\n",
    "    min=0,\n",
    "    max=10,\n",
    "    description='Loading:',\n",
    "    bar_style='info',\n",
    "    style={'bar_color': 'maroon'},\n",
    "    orientation='horizontal'\n",
    ")"
   ]
  },
  {
   "cell_type": "code",
   "execution_count": 20,
   "id": "ab26ecff-996f-47cd-98dc-be7b53c9acfa",
   "metadata": {
    "tags": []
   },
   "outputs": [
    {
     "data": {
      "application/vnd.jupyter.widget-view+json": {
       "model_id": "4e93115523684dba8812f9617cecff68",
       "version_major": 2,
       "version_minor": 0
      },
      "text/plain": [
       "Select(description='OS:', index=2, options=('Linux', 'Windows', 'macOS'), value='macOS')"
      ]
     },
     "metadata": {},
     "output_type": "display_data"
    }
   ],
   "source": [
    "w=widgets.Select(\n",
    "    options=['Linux', 'Windows', 'macOS'],\n",
    "    value='macOS',\n",
    "    # rows=10,\n",
    "    description='OS:',\n",
    "    disabled=False\n",
    ")\n",
    "display(w)"
   ]
  },
  {
   "cell_type": "code",
   "execution_count": 21,
   "id": "21d11c62-4f55-4655-8186-7ebfadf9184c",
   "metadata": {
    "tags": []
   },
   "outputs": [
    {
     "data": {
      "application/vnd.jupyter.widget-view+json": {
       "model_id": "4e93115523684dba8812f9617cecff68",
       "version_major": 2,
       "version_minor": 0
      },
      "text/plain": [
       "Select(description='OS:', index=2, options=('Linux', 'Windows', 'macOS'), value='macOS')"
      ]
     },
     "metadata": {},
     "output_type": "display_data"
    }
   ],
   "source": [
    "display(w)"
   ]
  },
  {
   "cell_type": "code",
   "execution_count": 28,
   "id": "ecf116e2-b29b-4d93-9216-e1c268f36ef4",
   "metadata": {
    "tags": []
   },
   "outputs": [
    {
     "name": "stdout",
     "output_type": "stream",
     "text": [
      "a: 0\n",
      "b: 0\n"
     ]
    },
    {
     "data": {
      "application/vnd.jupyter.widget-view+json": {
       "model_id": "cb10c2fc91c345dfabf41d678fc65ff6",
       "version_major": 2,
       "version_minor": 0
      },
      "text/plain": [
       "VBox(children=(IntProgress(value=0, bar_style='info', description='Loading:', max=10, style=ProgressStyle(bar_…"
      ]
     },
     "execution_count": 28,
     "metadata": {},
     "output_type": "execute_result"
    }
   ],
   "source": [
    "b = widgets.IntSlider(\n",
    "        value=0,\n",
    "        min=0,\n",
    "        max=10,\n",
    "        step=2,\n",
    "        description='Test:',\n",
    "        disabled=False,\n",
    "        continuous_update=True,\n",
    "        orientation='horizontal',\n",
    "        readout=True,\n",
    "        readout_format='d'\n",
    ")\n",
    "a = widgets.IntProgress(\n",
    "        value=0,\n",
    "        min=0,\n",
    "        max=10,\n",
    "        description='Loading:',\n",
    "        bar_style='info',\n",
    "        style={'bar_color': 'maroon'},\n",
    "        orientation='horizontal'\n",
    ")\n",
    "print(\"a:\",a.value)\n",
    "print(\"b:\",b.value)\n",
    "# To link two vlaues\n",
    "widgets.link((a, 'value'), (b, 'value'))\n",
    "widgets.VBox([a,b])"
   ]
  },
  {
   "cell_type": "code",
   "execution_count": 30,
   "id": "31d5c99f-ddfb-4daa-a3a7-488ee0aee9ea",
   "metadata": {
    "tags": []
   },
   "outputs": [],
   "source": [
    "# Export to html files stright \n",
    "from ipywidgets.embed import embed_minimal_html\n",
    "embed_minimal_html('export.html', views=[a], title='Widgets export')"
   ]
  },
  {
   "cell_type": "code",
   "execution_count": 67,
   "id": "f17cb344-d6f3-41a4-9ca9-88d973a53551",
   "metadata": {
    "tags": []
   },
   "outputs": [
    {
     "data": {
      "application/vnd.jupyter.widget-view+json": {
       "model_id": "9f26dc99b8b74b9d82130ae6da72028c",
       "version_major": 2,
       "version_minor": 0
      },
      "text/plain": [
       "FloatProgress(value=0.0)"
      ]
     },
     "metadata": {},
     "output_type": "display_data"
    }
   ],
   "source": [
    "import threading\n",
    "import time\n",
    "import ipywidgets as widgets\n",
    "def method_I_want_progress_bar_for():   \n",
    "    progress = widgets.FloatProgress(value=0.0, min=0.0, max=100.0)\n",
    "    finished = False\n",
    "    def work(progress):\n",
    "        total = 200\n",
    "        for i in range(total):\n",
    "            if finished != True:\n",
    "                time.sleep(0.2)\n",
    "                progress.value = float(i+1)/total\n",
    "            else:\n",
    "                progress.value = 200\n",
    "                break\n",
    "\n",
    "    thread = threading.Thread(target=work, args=(progress,))\n",
    "    display(progress)\n",
    "    #start the progress bar thread\n",
    "    thread.start()\n",
    "\n",
    "    #Whatever code you want to run async\n",
    "\n",
    "    finished = True #To set the process bar to 100% and exit the thread\n",
    "method_I_want_progress_bar_for()"
   ]
  },
  {
   "cell_type": "code",
   "execution_count": null,
   "id": "d2411415-0739-4c44-9511-fafaa37a856a",
   "metadata": {},
   "outputs": [],
   "source": []
  }
 ],
 "metadata": {
  "kernelspec": {
   "display_name": "Python 3 (ipykernel)",
   "language": "python",
   "name": "python3"
  },
  "language_info": {
   "codemirror_mode": {
    "name": "ipython",
    "version": 3
   },
   "file_extension": ".py",
   "mimetype": "text/x-python",
   "name": "python",
   "nbconvert_exporter": "python",
   "pygments_lexer": "ipython3",
   "version": "3.10.9"
  }
 },
 "nbformat": 4,
 "nbformat_minor": 5
}
