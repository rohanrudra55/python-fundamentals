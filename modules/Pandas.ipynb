{
 "cells": [
  {
   "cell_type": "code",
   "execution_count": 45,
   "id": "1378a013",
   "metadata": {},
   "outputs": [
    {
     "name": "stdout",
     "output_type": "stream",
     "text": [
      "Metadata:  <_io.TextIOWrapper name='/Users/alpha/Downloads/bollywood.csv' mode='r' encoding='UTF-8'>\n"
     ]
    }
   ],
   "source": [
    "myfile=open('../assets/bollywood.csv')\n",
    "print(\"Metadata: \",myfile)"
   ]
  },
  {
   "cell_type": "code",
   "execution_count": 63,
   "id": "43183ccc",
   "metadata": {},
   "outputs": [
    {
     "name": "stdout",
     "output_type": "stream",
     "text": [
      "Metadata:  <_io.TextIOWrapper name='/Users/alpha/Downloads/bollywood.csv' mode='r' encoding='UTF-8'>\n",
      "Number of lines:  150\n"
     ]
    }
   ],
   "source": [
    "myfile=open('/Users/alpha/Downloads/bollywood.csv')\n",
    "print(\"Metadata: \",myfile)\n",
    "count=0\n",
    "gener=[]\n",
    "for line in myfile:\n",
    "    if count == 0:\n",
    "        count+=1\n",
    "        continue\n",
    "    lines=line.split(',')\n",
    "    count+=1\n",
    "gener=[i for n, i in enumerate(gener) if i not in gener[:n]]\n",
    "print(\"Number of lines: \",count)"
   ]
  },
  {
   "cell_type": "code",
   "execution_count": 49,
   "id": "edfb0360",
   "metadata": {},
   "outputs": [
    {
     "name": "stdout",
     "output_type": "stream",
     "text": [
      "1.2.4\n"
     ]
    }
   ],
   "source": [
    "import pandas as pd\n",
    "print(pd.__version__)\n",
    "\n",
    "myfile=pd.read_csv('/Users/alpha/Downloads/bollywood.csv')"
   ]
  },
  {
   "cell_type": "code",
   "execution_count": 50,
   "id": "0ebfc338",
   "metadata": {},
   "outputs": [
    {
     "name": "stdout",
     "output_type": "stream",
     "text": [
      "Data type: <class 'pandas.core.frame.DataFrame'>\n",
      "Data type: <class 'pandas.core.frame.DataFrame'>\n"
     ]
    }
   ],
   "source": [
    "mydataset = {\n",
    "  'cars': [\"BMW\", \"Volvo\", \"Ford\"], \n",
    "  'passings': [3, 7, 2]\n",
    "}\n",
    "print('Data type:',type(myfile))\n",
    "\n",
    "# Converting to pandas\n",
    "myvar1 = pd.DataFrame(myfile)\n",
    "print('Data type:',type(myvar1))"
   ]
  },
  {
   "cell_type": "markdown",
   "id": "8f5ce9c7",
   "metadata": {},
   "source": [
    "Data sets in Pandas are usually multi-dimensional tables, called DataFrames"
   ]
  },
  {
   "cell_type": "code",
   "execution_count": 28,
   "id": "42865442",
   "metadata": {},
   "outputs": [
    {
     "name": "stdout",
     "output_type": "stream",
     "text": [
      "x    1\n",
      "y    7\n",
      "z    2\n",
      "dtype: int64\n",
      "x: 1\n",
      "day1    420\n",
      "day2    380\n",
      "day3    390\n",
      "dtype: int64\n"
     ]
    }
   ],
   "source": [
    "# Series , an 1-D Array\n",
    "\n",
    "a = [1, 7, 2]\n",
    "myvar = pd.Series(a,index = [\"x\", \"y\", \"z\"]) # Default index numbers\n",
    "print(myvar)\n",
    "\n",
    "print('x:',myvar[\"x\"])\n",
    "\n",
    "# Using Keys and Values\n",
    "calories = {\"day1\": 420, \"day2\": 380, \"day3\": 390}\n",
    "myvar = pd.Series(calories)\n",
    "print(myvar)"
   ]
  },
  {
   "cell_type": "code",
   "execution_count": 40,
   "id": "46bb9ac1",
   "metadata": {},
   "outputs": [
    {
     "name": "stdout",
     "output_type": "stream",
     "text": [
      "   calories  duration\n",
      "0       420        50\n",
      "1       380        40\n",
      "2       390        45\n",
      "Row:\n",
      "    calories  duration\n",
      "0       420        50\n",
      "1       380        40\n",
      "2       390        45\n"
     ]
    }
   ],
   "source": [
    "data = {\n",
    "  \"calories\": [420, 380, 390],\n",
    "  \"duration\": [50, 40, 45]\n",
    "}\n",
    "\n",
    "myvar = pd.DataFrame(data)\n",
    "print(myvar)\n",
    "\n",
    "#refer to the row index:\n",
    "print('Row:\\n',myvar.loc[0:])"
   ]
  },
  {
   "cell_type": "code",
   "execution_count": 41,
   "id": "389399fa",
   "metadata": {},
   "outputs": [
    {
     "name": "stdout",
     "output_type": "stream",
     "text": [
      "60\n"
     ]
    }
   ],
   "source": [
    "## Max number of rows supported by your system. We can aslo increase it.\n",
    "print(pd.options.display.max_rows)"
   ]
  },
  {
   "cell_type": "code",
   "execution_count": 51,
   "id": "8a6c775d",
   "metadata": {},
   "outputs": [
    {
     "name": "stdout",
     "output_type": "stream",
     "text": [
      "<class 'pandas.core.frame.DataFrame'>\n",
      "RangeIndex: 149 entries, 0 to 148\n",
      "Data columns (total 10 columns):\n",
      " #   Column               Non-Null Count  Dtype  \n",
      "---  ------               --------------  -----  \n",
      " 0   SlNo                 149 non-null    int64  \n",
      " 1   Release Date         149 non-null    object \n",
      " 2   MovieName            149 non-null    object \n",
      " 3   ReleaseTime          149 non-null    object \n",
      " 4   Genre                149 non-null    object \n",
      " 5   Budget               149 non-null    int64  \n",
      " 6   BoxOfficeCollection  149 non-null    float64\n",
      " 7   YoutubeViews         149 non-null    int64  \n",
      " 8   YoutubeLikes         149 non-null    int64  \n",
      " 9   YoutubeDislikes      149 non-null    int64  \n",
      "dtypes: float64(1), int64(5), object(4)\n",
      "memory usage: 11.8+ KB\n",
      "None\n"
     ]
    }
   ],
   "source": [
    "print(myvar1.info())"
   ]
  },
  {
   "cell_type": "code",
   "execution_count": 52,
   "id": "3bf84bd8",
   "metadata": {},
   "outputs": [
    {
     "name": "stdout",
     "output_type": "stream",
     "text": [
      "   SlNo Release Date           MovieName ReleaseTime      Genre  Budget  \\\n",
      "0     1    18-Apr-14            2 States          LW    Romance      36   \n",
      "1     2     4-Jan-13        Table No. 21           N  Thriller       10   \n",
      "2     3    18-Jul-14  Amit Sahni Ki List           N     Comedy      10   \n",
      "3     4     4-Jan-13    Rajdhani Express           N     Drama        7   \n",
      "4     5     4-Jul-14        Bobby Jasoos           N     Comedy      18   \n",
      "\n",
      "   BoxOfficeCollection  YoutubeViews  YoutubeLikes  YoutubeDislikes  \n",
      "0               104.00       8576361         26622             2527  \n",
      "1                12.00       1087320          1129              137  \n",
      "2                 4.00        572336           586               54  \n",
      "3                 0.35         42626            86               19  \n",
      "4                10.80       3113427          4512             1224  \n"
     ]
    }
   ],
   "source": [
    "print(myvar1.head())"
   ]
  },
  {
   "cell_type": "code",
   "execution_count": 59,
   "id": "f99736bd",
   "metadata": {},
   "outputs": [
    {
     "name": "stdout",
     "output_type": "stream",
     "text": [
      "Thriller \n"
     ]
    }
   ],
   "source": [
    "# [colum][row]\n",
    "print(myvar1[\"Genre\"][1])"
   ]
  }
 ],
 "metadata": {
  "kernelspec": {
   "name": "python3",
   "display_name": "Python 3.8.10 64-bit"
  },
  "language_info": {
   "codemirror_mode": {
    "name": "ipython",
    "version": 3
   },
   "file_extension": ".py",
   "mimetype": "text/x-python",
   "name": "python",
   "nbconvert_exporter": "python",
   "pygments_lexer": "ipython3",
   "version": "3.8.10"
  },
  "interpreter": {
   "hash": "aee8b7b246df8f9039afb4144a1f6fd8d2ca17a180786b69acc140d282b71a49"
  }
 },
 "nbformat": 4,
 "nbformat_minor": 5
}