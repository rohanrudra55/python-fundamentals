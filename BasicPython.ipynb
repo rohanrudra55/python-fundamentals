{
 "cells": [
  {
   "source": [],
   "cell_type": "markdown",
   "metadata": {}
  },
  {
   "cell_type": "markdown",
   "id": "08157831",
   "metadata": {},
   "source": [
    "# Variables \n",
    "Many Values to Multiple Variables"
   ]
  },
  {
   "cell_type": "code",
   "execution_count": 1,
   "id": "e5abf97b",
   "metadata": {},
   "outputs": [
    {
     "output_type": "stream",
     "name": "stdout",
     "text": [
      "1 2 3\n"
     ]
    }
   ],
   "source": [
    "x,y,z=1,2,3\n",
    "\n",
    "print(x,y,z)"
   ]
  },
  {
   "cell_type": "code",
   "execution_count": 9,
   "id": "040399af",
   "metadata": {},
   "outputs": [
    {
     "name": "stdout",
     "output_type": "stream",
     "text": [
      "1 2 3\n"
     ]
    }
   ],
   "source": [
    "# List to Var\n",
    "\n",
    "mylist=[1,2,3]\n",
    "x,y,z=mylist\n",
    "\n",
    "print(x,y,z)"
   ]
  },
  {
   "cell_type": "code",
   "execution_count": 10,
   "id": "825ab801",
   "metadata": {},
   "outputs": [
    {
     "name": "stdout",
     "output_type": "stream",
     "text": [
      "1 2 3\n"
     ]
    }
   ],
   "source": [
    "# Tuple to Var\n",
    "\n",
    "mytuple=(1,2,3)\n",
    "x,y,z=mytuple\n",
    "\n",
    "print(x,y,z)"
   ]
  },
  {
   "cell_type": "code",
   "execution_count": 11,
   "id": "aba26785",
   "metadata": {},
   "outputs": [
    {
     "name": "stdout",
     "output_type": "stream",
     "text": [
      "2 2 2\n"
     ]
    }
   ],
   "source": [
    "x=y=z=2\n",
    "\n",
    "print(x,y,z)"
   ]
  },
  {
   "cell_type": "markdown",
   "id": "03fcf817",
   "metadata": {},
   "source": [
    "### Global Keyword\n",
    "To create a global variable inside a function, you can use the global keyword."
   ]
  },
  {
   "cell_type": "markdown",
   "id": "b4f58da4",
   "metadata": {},
   "source": [
    "# Data Structures"
   ]
  },
  {
   "cell_type": "code",
   "execution_count": 12,
   "id": "611655b9",
   "metadata": {},
   "outputs": [
    {
     "name": "stdout",
     "output_type": "stream",
     "text": [
      "1j\n",
      "<class 'complex'>\n"
     ]
    }
   ],
   "source": [
    "# Complex Data type\n",
    "x = 1j\n",
    "\n",
    "print(x)\n",
    "print(type(x))"
   ]
  },
  {
   "cell_type": "code",
   "execution_count": 13,
   "id": "ea12803b",
   "metadata": {},
   "outputs": [
    {
     "name": "stdout",
     "output_type": "stream",
     "text": [
      "frozenset({'apple', 'banana', 'cherry'})\n",
      "<class 'frozenset'>\n"
     ]
    }
   ],
   "source": [
    "# Frozenst Data type\n",
    "x = frozenset({\"apple\", \"banana\", \"cherry\"})\n",
    "\n",
    "print(x)\n",
    "print(type(x)) "
   ]
  },
  {
   "cell_type": "code",
   "execution_count": 14,
   "id": "6a8308d3",
   "metadata": {},
   "outputs": [
    {
     "name": "stdout",
     "output_type": "stream",
     "text": [
      "b'Hello'\n",
      "<class 'bytes'>\n"
     ]
    }
   ],
   "source": [
    "# Bytes\n",
    "x = b\"Hello\"\n",
    "\n",
    "print(x)\n",
    "print(type(x)) "
   ]
  },
  {
   "cell_type": "code",
   "execution_count": 15,
   "id": "26a7ef5b",
   "metadata": {},
   "outputs": [
    {
     "name": "stdout",
     "output_type": "stream",
     "text": [
      "bytearray(b'\\x00\\x00\\x00\\x00\\x00')\n",
      "<class 'bytearray'>\n"
     ]
    }
   ],
   "source": [
    "# Byte Array\n",
    "x = bytearray(5)\n",
    "\n",
    "print(x)\n",
    "print(type(x)) "
   ]
  },
  {
   "cell_type": "code",
   "execution_count": 16,
   "id": "82949b75",
   "metadata": {},
   "outputs": [
    {
     "name": "stdout",
     "output_type": "stream",
     "text": [
      "<memory at 0x7fdbde16ce80>\n",
      "<class 'memoryview'>\n"
     ]
    }
   ],
   "source": [
    "# Memory View\n",
    "x = memoryview(bytes(5))\n",
    "\n",
    "print(x)\n",
    "print(type(x)) "
   ]
  },
  {
   "cell_type": "code",
   "execution_count": 39,
   "metadata": {},
   "outputs": [
    {
     "output_type": "stream",
     "name": "stdout",
     "text": [
      "['X', [1, 2, 3], 'Y']\n['X', [1, 0, 3], 'Y']\n"
     ]
    }
   ],
   "source": [
    "L = [1, 2, 3]\n",
    "M = ['X', L, 'Y'] \n",
    "print(M)\n",
    "L[1] = 0\n",
    "print(M)"
   ]
  },
  {
   "cell_type": "code",
   "execution_count": 38,
   "metadata": {},
   "outputs": [
    {
     "output_type": "execute_result",
     "data": {
      "text/plain": [
       "['grail', [...]]"
      ]
     },
     "metadata": {},
     "execution_count": 38
    }
   ],
   "source": [
    "# Cyclic DS\n",
    "L = ['grail'] # Append reference to same object\n",
    "L.append(L) # Generates cycle in object: [...]\n",
    "L"
   ]
  },
  {
   "cell_type": "markdown",
   "id": "de168a9c",
   "metadata": {},
   "source": [
    "# Random "
   ]
  },
  {
   "cell_type": "code",
   "execution_count": 18,
   "id": "483ff50a",
   "metadata": {},
   "outputs": [
    {
     "name": "stdout",
     "output_type": "stream",
     "text": [
      "5\n"
     ]
    }
   ],
   "source": [
    "import random\n",
    "\n",
    "print(random.randrange(1, 10))"
   ]
  },
  {
   "cell_type": "markdown",
   "id": "d9f35718",
   "metadata": {},
   "source": [
    "# Strings"
   ]
  },
  {
   "cell_type": "code",
   "execution_count": 7,
   "id": "e7526e4c",
   "metadata": {},
   "outputs": [
    {
     "output_type": "execute_result",
     "data": {
      "text/plain": [
       "'C:\\new\\text.dat'"
      ]
     },
     "metadata": {},
     "execution_count": 7
    }
   ],
   "source": [
    "# Python itself uses double slash scheme\n",
    "txt=(r'C:\\new\\text.dat')\n",
    "txt"
   ]
  },
  {
   "cell_type": "code",
   "execution_count": 6,
   "metadata": {},
   "outputs": [
    {
     "output_type": "stream",
     "name": "stdout",
     "text": [
      "C:\\new\\text.dat\n"
     ]
    }
   ],
   "source": [
    "# User friendly way\n",
    "txt=(r'C:\\new\\text.dat')\n",
    "print(txt)"
   ]
  },
  {
   "cell_type": "markdown",
   "id": "cc33175f",
   "metadata": {},
   "source": [
    "Slicing in starings works like [start : end] it will give upto end-1. And in case of reverse it starts from -1 and rest 0. It also has an optional third arg known as steps or stride\n",
    "\n",
    "| H | E | L | L | O |   | W | O | R | L | D | ! |\n",
    "|---|---|---|---|---|---|---|---|---|---|---|---|\n",
    "| 0 | 1 | 2 | 3 | 4 | 5 | 6 | 7 | 8 | 9 | 10 | 11 |\n",
    "| -11 |   |   | -9 |   | -7 |   | -5 |   | -3 |   | -1 |"
   ]
  },
  {
   "cell_type": "code",
   "execution_count": 11,
   "id": "ab9a2f70",
   "metadata": {},
   "outputs": [
    {
     "output_type": "stream",
     "name": "stdout",
     "text": [
      "Hello\nWorld\nHloWrd\n!dlroW olleH\nHello World\n"
     ]
    }
   ],
   "source": [
    "txt=\"Hello World!\"\n",
    "\n",
    "# [ Start : End ]\n",
    "print(txt[0:5])\n",
    "\n",
    "# [ Start : End ]\n",
    "print(txt[-6:-1])\n",
    "\n",
    "# [ Start : End : Steps ]\n",
    "print(txt[0::2])\n",
    "\n",
    "# [ Start : End : Steps ]\n",
    "print(txt[::-1])\n",
    "\n",
    "# [ Start : End ]\n",
    "print(txt[:-1])"
   ]
  },
  {
   "cell_type": "code",
   "execution_count": 8,
   "metadata": {},
   "outputs": [
    {
     "output_type": "stream",
     "name": "stdout",
     "text": [
      "ab\naaaa\n"
     ]
    }
   ],
   "source": [
    "# String concatination\n",
    "txt1='a'\n",
    "txt2='b'\n",
    "\n",
    "# Concatinate\n",
    "print(txt1+txt2)\n",
    "\n",
    "# Multiply\n",
    "print(txt1*4)"
   ]
  },
  {
   "cell_type": "code",
   "execution_count": 21,
   "id": "d6ce7195",
   "metadata": {},
   "outputs": [
    {
     "name": "stdout",
     "output_type": "stream",
     "text": [
      "Lorem ipsum dolor sit amet,\n",
      "consectetur adipiscing elit,\n",
      "sed do eiusmod tempor incididunt\n",
      "ut labore et dolore magna aliqua.\n"
     ]
    }
   ],
   "source": [
    "# Block string\n",
    "a = '''Lorem ipsum dolor sit amet,\n",
    "consectetur adipiscing elit,\n",
    "sed do eiusmod tempor incididunt\n",
    "ut labore et dolore magna aliqua.'''\n",
    "print(a)"
   ]
  },
  {
   "cell_type": "code",
   "execution_count": 20,
   "id": "ddfab87b",
   "metadata": {},
   "outputs": [
    {
     "name": "stdout",
     "output_type": "stream",
     "text": [
      "Lorem ipsum dolor sit amet,\n",
      "consectetur adipiscing elit,\n",
      "sed do eiusmod tempor incididunt\n",
      "ut labore et dolore magna aliqua.\n"
     ]
    }
   ],
   "source": [
    "a = \"\"\"Lorem ipsum dolor sit amet,\n",
    "consectetur adipiscing elit,\n",
    "sed do eiusmod tempor incididunt\n",
    "ut labore et dolore magna aliqua.\"\"\"\n",
    "print(a)"
   ]
  },
  {
   "cell_type": "code",
   "execution_count": 22,
   "metadata": {},
   "outputs": [
    {
     "output_type": "execute_result",
     "data": {
      "text/plain": [
       "\"'Hello World!'\""
      ]
     },
     "metadata": {},
     "execution_count": 22
    }
   ],
   "source": [
    "a=1.234E-10\n",
    "r=repr(a)\n",
    "s=str(a)\n",
    "print(\"repr: \",r,\"str: \",s)\n",
    "# Converts the obj to its str rep. From whrere the obj can be recreated\n",
    "repr(txt)"
   ]
  },
  {
   "cell_type": "code",
   "execution_count": 26,
   "metadata": {},
   "outputs": [
    {
     "output_type": "execute_result",
     "data": {
      "text/plain": [
       "115"
      ]
     },
     "metadata": {},
     "execution_count": 26
    }
   ],
   "source": [
    "# Bianry value\n",
    "ord('s')"
   ]
  },
  {
   "cell_type": "code",
   "execution_count": 27,
   "metadata": {},
   "outputs": [
    {
     "output_type": "execute_result",
     "data": {
      "text/plain": [
       "'s'"
      ]
     },
     "metadata": {},
     "execution_count": 27
    }
   ],
   "source": [
    "# Character\n",
    "chr(115)"
   ]
  },
  {
   "cell_type": "code",
   "execution_count": 28,
   "metadata": {},
   "outputs": [
    {
     "output_type": "stream",
     "name": "stdout",
     "text": [
      "That is 1 dead bird!\n"
     ]
    }
   ],
   "source": [
    "print('That is %d %s bird!' % (1, 'dead'))"
   ]
  },
  {
   "cell_type": "code",
   "execution_count": 30,
   "metadata": {},
   "outputs": [
    {
     "output_type": "stream",
     "name": "stdout",
     "text": [
      "I am Bob of age 40 \n"
     ]
    }
   ],
   "source": [
    "print('I am %(name)s of age %(age)s '%{'name': 'Bob', 'age': 40})"
   ]
  },
  {
   "source": [
    "# foramt()"
   ],
   "cell_type": "markdown",
   "metadata": {}
  },
  {
   "cell_type": "code",
   "execution_count": 33,
   "metadata": {},
   "outputs": [
    {
     "output_type": "stream",
     "name": "stdout",
     "text": [
      "spam, ham and eggs\nspam, ham and eggs\nspam, ham and eggs\n"
     ]
    }
   ],
   "source": [
    "# by postiton\n",
    "template = '{0}, {1} and {2}'\n",
    "template=template.format('spam', 'ham', 'eggs')\n",
    "print(template)\n",
    "\n",
    "# by keyword\n",
    "template = '{motto}, {pork} and {food}'\n",
    "template=template.format(motto='spam', pork='ham', food='eggs')\n",
    "print(template)\n",
    "\n",
    "# by both\n",
    "template = '{motto}, {0} and {food}'\n",
    "template=template.format('ham', motto='spam', food='eggs') \n",
    "print(template)"
   ]
  },
  {
   "cell_type": "code",
   "execution_count": 34,
   "metadata": {},
   "outputs": [
    {
     "output_type": "execute_result",
     "data": {
      "text/plain": [
       "'spam       =   123.4567'"
      ]
     },
     "metadata": {},
     "execution_count": 34
    }
   ],
   "source": [
    "# {0:10} means the first positional argument in a field 10 characters wide\n",
    "'{0:10} = {1:10}'.format('spam', 123.4567)"
   ]
  },
  {
   "cell_type": "code",
   "execution_count": 36,
   "metadata": {},
   "outputs": [
    {
     "output_type": "execute_result",
     "data": {
      "text/plain": [
       "'spam       =   123.4567'"
      ]
     },
     "metadata": {},
     "execution_count": 36
    }
   ],
   "source": [
    "# {1:<10} means the second positional argument left-justified in a 10-character-wide field\n",
    "'{0:<10} = {1:>10}'.format('spam', 123.4567)"
   ]
  },
  {
   "cell_type": "code",
   "execution_count": 35,
   "metadata": {},
   "outputs": [
    {
     "output_type": "execute_result",
     "data": {
      "text/plain": [
       "'    darwin = laptop    '"
      ]
     },
     "metadata": {},
     "execution_count": 35
    }
   ],
   "source": [
    "'{0.platform:>10} = {1[item]:<10}'.format(sys, dict(item='laptop'))"
   ]
  },
  {
   "cell_type": "code",
   "execution_count": null,
   "metadata": {},
   "outputs": [],
   "source": []
  }
 ],
 "metadata": {
  "kernelspec": {
   "name": "python3",
   "display_name": "Python 3.8.10 64-bit"
  },
  "language_info": {
   "codemirror_mode": {
    "name": "ipython",
    "version": 3
   },
   "file_extension": ".py",
   "mimetype": "text/x-python",
   "name": "python",
   "nbconvert_exporter": "python",
   "pygments_lexer": "ipython3",
   "version": "3.8.10"
  },
  "interpreter": {
   "hash": "aee8b7b246df8f9039afb4144a1f6fd8d2ca17a180786b69acc140d282b71a49"
  }
 },
 "nbformat": 4,
 "nbformat_minor": 5
}